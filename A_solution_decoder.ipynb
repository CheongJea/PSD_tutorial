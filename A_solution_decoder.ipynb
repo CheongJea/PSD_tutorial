{
 "cells": [
  {
   "cell_type": "code",
   "execution_count": 2,
   "metadata": {},
   "outputs": [],
   "source": [
    "file_n = \"solution\"\n",
    "\n",
    "file_path = f\"generation/{file_n}.log\"\n",
    "output_file_path = f'refined_{file_n}.xyz'\n",
    "\n",
    "with open(file_path, \"r\") as f:\n",
    "    Lines = f.readlines()\n",
    "\n",
    "Total_atoms = str(50)\n",
    "\n",
    "with open(output_file_path, 'w') as file:\n",
    "  file.write(Total_atoms + \"\\n\")\n",
    "  for i in range(50):\n",
    "    order_v = i + 1\n",
    "    v_id = Lines[i].split()\n",
    "    file.write(str(order_v)+\" \" +v_id[0]+\" \" +  v_id[1] + \" \" +  v_id[2] +\" \" +  v_id[3] + '\\n')\n"
   ]
  },
  {
   "cell_type": "code",
   "execution_count": 1,
   "metadata": {},
   "outputs": [],
   "source": [
    "file_n = \"solution\"\n",
    "\n",
    "file_path = f\"generation/{file_n}.log\"\n",
    "output_file_path = f'refined_{file_n}.xyz'\n",
    "\n",
    "with open(file_path, \"r\") as f:\n",
    "    Lines = f.readlines()\n",
    "\n",
    "Total_atoms = str(len(Lines))\n",
    "\n",
    "with open(output_file_path, 'w') as file:\n",
    "  file.write(Total_atoms + \"\\n\")\n",
    "  for i in range(int(Total_atoms)):\n",
    "    order_v = i + 1\n",
    "    v_id = Lines[i].split()\n",
    "    file.write(str(order_v)+\" \" +v_id[0]+\" \" +  v_id[1] + \" \" +  v_id[2] +\" \" +  v_id[3] + '\\n')"
   ]
  }
 ],
 "metadata": {
  "kernelspec": {
   "display_name": "Python 3",
   "language": "python",
   "name": "python3"
  },
  "language_info": {
   "codemirror_mode": {
    "name": "ipython",
    "version": 3
   },
   "file_extension": ".py",
   "mimetype": "text/x-python",
   "name": "python",
   "nbconvert_exporter": "python",
   "pygments_lexer": "ipython3",
   "version": "3.12.4"
  }
 },
 "nbformat": 4,
 "nbformat_minor": 2
}
